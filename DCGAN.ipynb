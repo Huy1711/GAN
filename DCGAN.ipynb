{
  "nbformat": 4,
  "nbformat_minor": 5,
  "metadata": {
    "kernelspec": {
      "display_name": "Python 3 (ipykernel)",
      "language": "python",
      "name": "python3"
    },
    "language_info": {
      "codemirror_mode": {
        "name": "ipython",
        "version": 3
      },
      "file_extension": ".py",
      "mimetype": "text/x-python",
      "name": "python",
      "nbconvert_exporter": "python",
      "pygments_lexer": "ipython3",
      "version": "3.8.11"
    },
    "colab": {
      "name": "DCGAN.ipynb",
      "provenance": [],
      "collapsed_sections": []
    },
    "accelerator": "GPU",
    "widgets": {
      "application/vnd.jupyter.widget-state+json": {
        "b6bd2b47eda04f4f99f282e652499635": {
          "model_module": "@jupyter-widgets/controls",
          "model_name": "HBoxModel",
          "model_module_version": "1.5.0",
          "state": {
            "_view_name": "HBoxView",
            "_dom_classes": [],
            "_model_name": "HBoxModel",
            "_view_module": "@jupyter-widgets/controls",
            "_model_module_version": "1.5.0",
            "_view_count": null,
            "_view_module_version": "1.5.0",
            "box_style": "",
            "layout": "IPY_MODEL_17751b4346ac4d528391130f2fab86e2",
            "_model_module": "@jupyter-widgets/controls",
            "children": [
              "IPY_MODEL_f64a46c6a99a4cc7ae70057e3aac2f3c",
              "IPY_MODEL_070b8dd548a3420f918ac5b01d25a8ab",
              "IPY_MODEL_e75d04ff94054d6397e67c9300a733b0"
            ]
          }
        },
        "17751b4346ac4d528391130f2fab86e2": {
          "model_module": "@jupyter-widgets/base",
          "model_name": "LayoutModel",
          "model_module_version": "1.2.0",
          "state": {
            "_view_name": "LayoutView",
            "grid_template_rows": null,
            "right": null,
            "justify_content": null,
            "_view_module": "@jupyter-widgets/base",
            "overflow": null,
            "_model_module_version": "1.2.0",
            "_view_count": null,
            "flex_flow": null,
            "width": null,
            "min_width": null,
            "border": null,
            "align_items": null,
            "bottom": null,
            "_model_module": "@jupyter-widgets/base",
            "top": null,
            "grid_column": null,
            "overflow_y": null,
            "overflow_x": null,
            "grid_auto_flow": null,
            "grid_area": null,
            "grid_template_columns": null,
            "flex": null,
            "_model_name": "LayoutModel",
            "justify_items": null,
            "grid_row": null,
            "max_height": null,
            "align_content": null,
            "visibility": null,
            "align_self": null,
            "height": null,
            "min_height": null,
            "padding": null,
            "grid_auto_rows": null,
            "grid_gap": null,
            "max_width": null,
            "order": null,
            "_view_module_version": "1.2.0",
            "grid_template_areas": null,
            "object_position": null,
            "object_fit": null,
            "grid_auto_columns": null,
            "margin": null,
            "display": null,
            "left": null
          }
        },
        "f64a46c6a99a4cc7ae70057e3aac2f3c": {
          "model_module": "@jupyter-widgets/controls",
          "model_name": "HTMLModel",
          "model_module_version": "1.5.0",
          "state": {
            "_view_name": "HTMLView",
            "style": "IPY_MODEL_e87ebd145f0b4122890025b0427dd353",
            "_dom_classes": [],
            "description": "",
            "_model_name": "HTMLModel",
            "placeholder": "​",
            "_view_module": "@jupyter-widgets/controls",
            "_model_module_version": "1.5.0",
            "value": "",
            "_view_count": null,
            "_view_module_version": "1.5.0",
            "description_tooltip": null,
            "_model_module": "@jupyter-widgets/controls",
            "layout": "IPY_MODEL_ada00e15c1d04a809577f45d4af5f3bd"
          }
        },
        "070b8dd548a3420f918ac5b01d25a8ab": {
          "model_module": "@jupyter-widgets/controls",
          "model_name": "FloatProgressModel",
          "model_module_version": "1.5.0",
          "state": {
            "_view_name": "ProgressView",
            "style": "IPY_MODEL_4b991431a2594228af83069d86e67611",
            "_dom_classes": [],
            "description": "",
            "_model_name": "FloatProgressModel",
            "bar_style": "success",
            "max": 9912422,
            "_view_module": "@jupyter-widgets/controls",
            "_model_module_version": "1.5.0",
            "value": 9912422,
            "_view_count": null,
            "_view_module_version": "1.5.0",
            "orientation": "horizontal",
            "min": 0,
            "description_tooltip": null,
            "_model_module": "@jupyter-widgets/controls",
            "layout": "IPY_MODEL_814451f46165404c9cde88eb94943b2c"
          }
        },
        "e75d04ff94054d6397e67c9300a733b0": {
          "model_module": "@jupyter-widgets/controls",
          "model_name": "HTMLModel",
          "model_module_version": "1.5.0",
          "state": {
            "_view_name": "HTMLView",
            "style": "IPY_MODEL_d95142858e8740eab36dcdf4ec607854",
            "_dom_classes": [],
            "description": "",
            "_model_name": "HTMLModel",
            "placeholder": "​",
            "_view_module": "@jupyter-widgets/controls",
            "_model_module_version": "1.5.0",
            "value": " 9913344/? [00:00&lt;00:00, 39352142.21it/s]",
            "_view_count": null,
            "_view_module_version": "1.5.0",
            "description_tooltip": null,
            "_model_module": "@jupyter-widgets/controls",
            "layout": "IPY_MODEL_b7f1b617ae6b44828b5c35eb8d9db6b8"
          }
        },
        "e87ebd145f0b4122890025b0427dd353": {
          "model_module": "@jupyter-widgets/controls",
          "model_name": "DescriptionStyleModel",
          "model_module_version": "1.5.0",
          "state": {
            "_view_name": "StyleView",
            "_model_name": "DescriptionStyleModel",
            "description_width": "",
            "_view_module": "@jupyter-widgets/base",
            "_model_module_version": "1.5.0",
            "_view_count": null,
            "_view_module_version": "1.2.0",
            "_model_module": "@jupyter-widgets/controls"
          }
        },
        "ada00e15c1d04a809577f45d4af5f3bd": {
          "model_module": "@jupyter-widgets/base",
          "model_name": "LayoutModel",
          "model_module_version": "1.2.0",
          "state": {
            "_view_name": "LayoutView",
            "grid_template_rows": null,
            "right": null,
            "justify_content": null,
            "_view_module": "@jupyter-widgets/base",
            "overflow": null,
            "_model_module_version": "1.2.0",
            "_view_count": null,
            "flex_flow": null,
            "width": null,
            "min_width": null,
            "border": null,
            "align_items": null,
            "bottom": null,
            "_model_module": "@jupyter-widgets/base",
            "top": null,
            "grid_column": null,
            "overflow_y": null,
            "overflow_x": null,
            "grid_auto_flow": null,
            "grid_area": null,
            "grid_template_columns": null,
            "flex": null,
            "_model_name": "LayoutModel",
            "justify_items": null,
            "grid_row": null,
            "max_height": null,
            "align_content": null,
            "visibility": null,
            "align_self": null,
            "height": null,
            "min_height": null,
            "padding": null,
            "grid_auto_rows": null,
            "grid_gap": null,
            "max_width": null,
            "order": null,
            "_view_module_version": "1.2.0",
            "grid_template_areas": null,
            "object_position": null,
            "object_fit": null,
            "grid_auto_columns": null,
            "margin": null,
            "display": null,
            "left": null
          }
        },
        "4b991431a2594228af83069d86e67611": {
          "model_module": "@jupyter-widgets/controls",
          "model_name": "ProgressStyleModel",
          "model_module_version": "1.5.0",
          "state": {
            "_view_name": "StyleView",
            "_model_name": "ProgressStyleModel",
            "description_width": "",
            "_view_module": "@jupyter-widgets/base",
            "_model_module_version": "1.5.0",
            "_view_count": null,
            "_view_module_version": "1.2.0",
            "bar_color": null,
            "_model_module": "@jupyter-widgets/controls"
          }
        },
        "814451f46165404c9cde88eb94943b2c": {
          "model_module": "@jupyter-widgets/base",
          "model_name": "LayoutModel",
          "model_module_version": "1.2.0",
          "state": {
            "_view_name": "LayoutView",
            "grid_template_rows": null,
            "right": null,
            "justify_content": null,
            "_view_module": "@jupyter-widgets/base",
            "overflow": null,
            "_model_module_version": "1.2.0",
            "_view_count": null,
            "flex_flow": null,
            "width": null,
            "min_width": null,
            "border": null,
            "align_items": null,
            "bottom": null,
            "_model_module": "@jupyter-widgets/base",
            "top": null,
            "grid_column": null,
            "overflow_y": null,
            "overflow_x": null,
            "grid_auto_flow": null,
            "grid_area": null,
            "grid_template_columns": null,
            "flex": null,
            "_model_name": "LayoutModel",
            "justify_items": null,
            "grid_row": null,
            "max_height": null,
            "align_content": null,
            "visibility": null,
            "align_self": null,
            "height": null,
            "min_height": null,
            "padding": null,
            "grid_auto_rows": null,
            "grid_gap": null,
            "max_width": null,
            "order": null,
            "_view_module_version": "1.2.0",
            "grid_template_areas": null,
            "object_position": null,
            "object_fit": null,
            "grid_auto_columns": null,
            "margin": null,
            "display": null,
            "left": null
          }
        },
        "d95142858e8740eab36dcdf4ec607854": {
          "model_module": "@jupyter-widgets/controls",
          "model_name": "DescriptionStyleModel",
          "model_module_version": "1.5.0",
          "state": {
            "_view_name": "StyleView",
            "_model_name": "DescriptionStyleModel",
            "description_width": "",
            "_view_module": "@jupyter-widgets/base",
            "_model_module_version": "1.5.0",
            "_view_count": null,
            "_view_module_version": "1.2.0",
            "_model_module": "@jupyter-widgets/controls"
          }
        },
        "b7f1b617ae6b44828b5c35eb8d9db6b8": {
          "model_module": "@jupyter-widgets/base",
          "model_name": "LayoutModel",
          "model_module_version": "1.2.0",
          "state": {
            "_view_name": "LayoutView",
            "grid_template_rows": null,
            "right": null,
            "justify_content": null,
            "_view_module": "@jupyter-widgets/base",
            "overflow": null,
            "_model_module_version": "1.2.0",
            "_view_count": null,
            "flex_flow": null,
            "width": null,
            "min_width": null,
            "border": null,
            "align_items": null,
            "bottom": null,
            "_model_module": "@jupyter-widgets/base",
            "top": null,
            "grid_column": null,
            "overflow_y": null,
            "overflow_x": null,
            "grid_auto_flow": null,
            "grid_area": null,
            "grid_template_columns": null,
            "flex": null,
            "_model_name": "LayoutModel",
            "justify_items": null,
            "grid_row": null,
            "max_height": null,
            "align_content": null,
            "visibility": null,
            "align_self": null,
            "height": null,
            "min_height": null,
            "padding": null,
            "grid_auto_rows": null,
            "grid_gap": null,
            "max_width": null,
            "order": null,
            "_view_module_version": "1.2.0",
            "grid_template_areas": null,
            "object_position": null,
            "object_fit": null,
            "grid_auto_columns": null,
            "margin": null,
            "display": null,
            "left": null
          }
        },
        "b6d9f24f983441aab4855e10253650ab": {
          "model_module": "@jupyter-widgets/controls",
          "model_name": "HBoxModel",
          "model_module_version": "1.5.0",
          "state": {
            "_view_name": "HBoxView",
            "_dom_classes": [],
            "_model_name": "HBoxModel",
            "_view_module": "@jupyter-widgets/controls",
            "_model_module_version": "1.5.0",
            "_view_count": null,
            "_view_module_version": "1.5.0",
            "box_style": "",
            "layout": "IPY_MODEL_070c8f5afa7348698b1f0861130cc791",
            "_model_module": "@jupyter-widgets/controls",
            "children": [
              "IPY_MODEL_755390f7d2c9478fb0f2b555d43fd02f",
              "IPY_MODEL_e73d57aa6bb546f29255ff5325dd6410",
              "IPY_MODEL_dc537d9357fa4ad4a7b85ea0f435dbb4"
            ]
          }
        },
        "070c8f5afa7348698b1f0861130cc791": {
          "model_module": "@jupyter-widgets/base",
          "model_name": "LayoutModel",
          "model_module_version": "1.2.0",
          "state": {
            "_view_name": "LayoutView",
            "grid_template_rows": null,
            "right": null,
            "justify_content": null,
            "_view_module": "@jupyter-widgets/base",
            "overflow": null,
            "_model_module_version": "1.2.0",
            "_view_count": null,
            "flex_flow": null,
            "width": null,
            "min_width": null,
            "border": null,
            "align_items": null,
            "bottom": null,
            "_model_module": "@jupyter-widgets/base",
            "top": null,
            "grid_column": null,
            "overflow_y": null,
            "overflow_x": null,
            "grid_auto_flow": null,
            "grid_area": null,
            "grid_template_columns": null,
            "flex": null,
            "_model_name": "LayoutModel",
            "justify_items": null,
            "grid_row": null,
            "max_height": null,
            "align_content": null,
            "visibility": null,
            "align_self": null,
            "height": null,
            "min_height": null,
            "padding": null,
            "grid_auto_rows": null,
            "grid_gap": null,
            "max_width": null,
            "order": null,
            "_view_module_version": "1.2.0",
            "grid_template_areas": null,
            "object_position": null,
            "object_fit": null,
            "grid_auto_columns": null,
            "margin": null,
            "display": null,
            "left": null
          }
        },
        "755390f7d2c9478fb0f2b555d43fd02f": {
          "model_module": "@jupyter-widgets/controls",
          "model_name": "HTMLModel",
          "model_module_version": "1.5.0",
          "state": {
            "_view_name": "HTMLView",
            "style": "IPY_MODEL_420e250311364f1cba05aee6f06a9b45",
            "_dom_classes": [],
            "description": "",
            "_model_name": "HTMLModel",
            "placeholder": "​",
            "_view_module": "@jupyter-widgets/controls",
            "_model_module_version": "1.5.0",
            "value": "",
            "_view_count": null,
            "_view_module_version": "1.5.0",
            "description_tooltip": null,
            "_model_module": "@jupyter-widgets/controls",
            "layout": "IPY_MODEL_a5cbc6256f1c4d098c288b922aca5ad4"
          }
        },
        "e73d57aa6bb546f29255ff5325dd6410": {
          "model_module": "@jupyter-widgets/controls",
          "model_name": "FloatProgressModel",
          "model_module_version": "1.5.0",
          "state": {
            "_view_name": "ProgressView",
            "style": "IPY_MODEL_62b8f47406ed4d8ba048c8568f66b56b",
            "_dom_classes": [],
            "description": "",
            "_model_name": "FloatProgressModel",
            "bar_style": "success",
            "max": 28881,
            "_view_module": "@jupyter-widgets/controls",
            "_model_module_version": "1.5.0",
            "value": 28881,
            "_view_count": null,
            "_view_module_version": "1.5.0",
            "orientation": "horizontal",
            "min": 0,
            "description_tooltip": null,
            "_model_module": "@jupyter-widgets/controls",
            "layout": "IPY_MODEL_660ef241fd0a464e88224429d7119bf7"
          }
        },
        "dc537d9357fa4ad4a7b85ea0f435dbb4": {
          "model_module": "@jupyter-widgets/controls",
          "model_name": "HTMLModel",
          "model_module_version": "1.5.0",
          "state": {
            "_view_name": "HTMLView",
            "style": "IPY_MODEL_35dbc6cd483340ed930b5464e82b566b",
            "_dom_classes": [],
            "description": "",
            "_model_name": "HTMLModel",
            "placeholder": "​",
            "_view_module": "@jupyter-widgets/controls",
            "_model_module_version": "1.5.0",
            "value": " 29696/? [00:00&lt;00:00, 595516.45it/s]",
            "_view_count": null,
            "_view_module_version": "1.5.0",
            "description_tooltip": null,
            "_model_module": "@jupyter-widgets/controls",
            "layout": "IPY_MODEL_bd11d487704041678d2a6cc2fe75aaa2"
          }
        },
        "420e250311364f1cba05aee6f06a9b45": {
          "model_module": "@jupyter-widgets/controls",
          "model_name": "DescriptionStyleModel",
          "model_module_version": "1.5.0",
          "state": {
            "_view_name": "StyleView",
            "_model_name": "DescriptionStyleModel",
            "description_width": "",
            "_view_module": "@jupyter-widgets/base",
            "_model_module_version": "1.5.0",
            "_view_count": null,
            "_view_module_version": "1.2.0",
            "_model_module": "@jupyter-widgets/controls"
          }
        },
        "a5cbc6256f1c4d098c288b922aca5ad4": {
          "model_module": "@jupyter-widgets/base",
          "model_name": "LayoutModel",
          "model_module_version": "1.2.0",
          "state": {
            "_view_name": "LayoutView",
            "grid_template_rows": null,
            "right": null,
            "justify_content": null,
            "_view_module": "@jupyter-widgets/base",
            "overflow": null,
            "_model_module_version": "1.2.0",
            "_view_count": null,
            "flex_flow": null,
            "width": null,
            "min_width": null,
            "border": null,
            "align_items": null,
            "bottom": null,
            "_model_module": "@jupyter-widgets/base",
            "top": null,
            "grid_column": null,
            "overflow_y": null,
            "overflow_x": null,
            "grid_auto_flow": null,
            "grid_area": null,
            "grid_template_columns": null,
            "flex": null,
            "_model_name": "LayoutModel",
            "justify_items": null,
            "grid_row": null,
            "max_height": null,
            "align_content": null,
            "visibility": null,
            "align_self": null,
            "height": null,
            "min_height": null,
            "padding": null,
            "grid_auto_rows": null,
            "grid_gap": null,
            "max_width": null,
            "order": null,
            "_view_module_version": "1.2.0",
            "grid_template_areas": null,
            "object_position": null,
            "object_fit": null,
            "grid_auto_columns": null,
            "margin": null,
            "display": null,
            "left": null
          }
        },
        "62b8f47406ed4d8ba048c8568f66b56b": {
          "model_module": "@jupyter-widgets/controls",
          "model_name": "ProgressStyleModel",
          "model_module_version": "1.5.0",
          "state": {
            "_view_name": "StyleView",
            "_model_name": "ProgressStyleModel",
            "description_width": "",
            "_view_module": "@jupyter-widgets/base",
            "_model_module_version": "1.5.0",
            "_view_count": null,
            "_view_module_version": "1.2.0",
            "bar_color": null,
            "_model_module": "@jupyter-widgets/controls"
          }
        },
        "660ef241fd0a464e88224429d7119bf7": {
          "model_module": "@jupyter-widgets/base",
          "model_name": "LayoutModel",
          "model_module_version": "1.2.0",
          "state": {
            "_view_name": "LayoutView",
            "grid_template_rows": null,
            "right": null,
            "justify_content": null,
            "_view_module": "@jupyter-widgets/base",
            "overflow": null,
            "_model_module_version": "1.2.0",
            "_view_count": null,
            "flex_flow": null,
            "width": null,
            "min_width": null,
            "border": null,
            "align_items": null,
            "bottom": null,
            "_model_module": "@jupyter-widgets/base",
            "top": null,
            "grid_column": null,
            "overflow_y": null,
            "overflow_x": null,
            "grid_auto_flow": null,
            "grid_area": null,
            "grid_template_columns": null,
            "flex": null,
            "_model_name": "LayoutModel",
            "justify_items": null,
            "grid_row": null,
            "max_height": null,
            "align_content": null,
            "visibility": null,
            "align_self": null,
            "height": null,
            "min_height": null,
            "padding": null,
            "grid_auto_rows": null,
            "grid_gap": null,
            "max_width": null,
            "order": null,
            "_view_module_version": "1.2.0",
            "grid_template_areas": null,
            "object_position": null,
            "object_fit": null,
            "grid_auto_columns": null,
            "margin": null,
            "display": null,
            "left": null
          }
        },
        "35dbc6cd483340ed930b5464e82b566b": {
          "model_module": "@jupyter-widgets/controls",
          "model_name": "DescriptionStyleModel",
          "model_module_version": "1.5.0",
          "state": {
            "_view_name": "StyleView",
            "_model_name": "DescriptionStyleModel",
            "description_width": "",
            "_view_module": "@jupyter-widgets/base",
            "_model_module_version": "1.5.0",
            "_view_count": null,
            "_view_module_version": "1.2.0",
            "_model_module": "@jupyter-widgets/controls"
          }
        },
        "bd11d487704041678d2a6cc2fe75aaa2": {
          "model_module": "@jupyter-widgets/base",
          "model_name": "LayoutModel",
          "model_module_version": "1.2.0",
          "state": {
            "_view_name": "LayoutView",
            "grid_template_rows": null,
            "right": null,
            "justify_content": null,
            "_view_module": "@jupyter-widgets/base",
            "overflow": null,
            "_model_module_version": "1.2.0",
            "_view_count": null,
            "flex_flow": null,
            "width": null,
            "min_width": null,
            "border": null,
            "align_items": null,
            "bottom": null,
            "_model_module": "@jupyter-widgets/base",
            "top": null,
            "grid_column": null,
            "overflow_y": null,
            "overflow_x": null,
            "grid_auto_flow": null,
            "grid_area": null,
            "grid_template_columns": null,
            "flex": null,
            "_model_name": "LayoutModel",
            "justify_items": null,
            "grid_row": null,
            "max_height": null,
            "align_content": null,
            "visibility": null,
            "align_self": null,
            "height": null,
            "min_height": null,
            "padding": null,
            "grid_auto_rows": null,
            "grid_gap": null,
            "max_width": null,
            "order": null,
            "_view_module_version": "1.2.0",
            "grid_template_areas": null,
            "object_position": null,
            "object_fit": null,
            "grid_auto_columns": null,
            "margin": null,
            "display": null,
            "left": null
          }
        },
        "75e7571c153f4e3d9975b1b21738c50d": {
          "model_module": "@jupyter-widgets/controls",
          "model_name": "HBoxModel",
          "model_module_version": "1.5.0",
          "state": {
            "_view_name": "HBoxView",
            "_dom_classes": [],
            "_model_name": "HBoxModel",
            "_view_module": "@jupyter-widgets/controls",
            "_model_module_version": "1.5.0",
            "_view_count": null,
            "_view_module_version": "1.5.0",
            "box_style": "",
            "layout": "IPY_MODEL_ce310e09f1f4448ba987a9d16113e7c7",
            "_model_module": "@jupyter-widgets/controls",
            "children": [
              "IPY_MODEL_3cbeb775cfbc4ea4b63884eae95b1776",
              "IPY_MODEL_80691e852547401db0e673342948af71",
              "IPY_MODEL_6678bd38e55d44bb84e179a426e16cf7"
            ]
          }
        },
        "ce310e09f1f4448ba987a9d16113e7c7": {
          "model_module": "@jupyter-widgets/base",
          "model_name": "LayoutModel",
          "model_module_version": "1.2.0",
          "state": {
            "_view_name": "LayoutView",
            "grid_template_rows": null,
            "right": null,
            "justify_content": null,
            "_view_module": "@jupyter-widgets/base",
            "overflow": null,
            "_model_module_version": "1.2.0",
            "_view_count": null,
            "flex_flow": null,
            "width": null,
            "min_width": null,
            "border": null,
            "align_items": null,
            "bottom": null,
            "_model_module": "@jupyter-widgets/base",
            "top": null,
            "grid_column": null,
            "overflow_y": null,
            "overflow_x": null,
            "grid_auto_flow": null,
            "grid_area": null,
            "grid_template_columns": null,
            "flex": null,
            "_model_name": "LayoutModel",
            "justify_items": null,
            "grid_row": null,
            "max_height": null,
            "align_content": null,
            "visibility": null,
            "align_self": null,
            "height": null,
            "min_height": null,
            "padding": null,
            "grid_auto_rows": null,
            "grid_gap": null,
            "max_width": null,
            "order": null,
            "_view_module_version": "1.2.0",
            "grid_template_areas": null,
            "object_position": null,
            "object_fit": null,
            "grid_auto_columns": null,
            "margin": null,
            "display": null,
            "left": null
          }
        },
        "3cbeb775cfbc4ea4b63884eae95b1776": {
          "model_module": "@jupyter-widgets/controls",
          "model_name": "HTMLModel",
          "model_module_version": "1.5.0",
          "state": {
            "_view_name": "HTMLView",
            "style": "IPY_MODEL_4d05296654f34ef2814256b0021e4017",
            "_dom_classes": [],
            "description": "",
            "_model_name": "HTMLModel",
            "placeholder": "​",
            "_view_module": "@jupyter-widgets/controls",
            "_model_module_version": "1.5.0",
            "value": "",
            "_view_count": null,
            "_view_module_version": "1.5.0",
            "description_tooltip": null,
            "_model_module": "@jupyter-widgets/controls",
            "layout": "IPY_MODEL_6012ba5a2ea148b2a7eef7fed68f23ad"
          }
        },
        "80691e852547401db0e673342948af71": {
          "model_module": "@jupyter-widgets/controls",
          "model_name": "FloatProgressModel",
          "model_module_version": "1.5.0",
          "state": {
            "_view_name": "ProgressView",
            "style": "IPY_MODEL_35097960ffad490e923b131c93a7cda8",
            "_dom_classes": [],
            "description": "",
            "_model_name": "FloatProgressModel",
            "bar_style": "success",
            "max": 1648877,
            "_view_module": "@jupyter-widgets/controls",
            "_model_module_version": "1.5.0",
            "value": 1648877,
            "_view_count": null,
            "_view_module_version": "1.5.0",
            "orientation": "horizontal",
            "min": 0,
            "description_tooltip": null,
            "_model_module": "@jupyter-widgets/controls",
            "layout": "IPY_MODEL_2777f047a35940099cd16ca48b9f873d"
          }
        },
        "6678bd38e55d44bb84e179a426e16cf7": {
          "model_module": "@jupyter-widgets/controls",
          "model_name": "HTMLModel",
          "model_module_version": "1.5.0",
          "state": {
            "_view_name": "HTMLView",
            "style": "IPY_MODEL_a97aeb15e6534305a78c059cf52a534a",
            "_dom_classes": [],
            "description": "",
            "_model_name": "HTMLModel",
            "placeholder": "​",
            "_view_module": "@jupyter-widgets/controls",
            "_model_module_version": "1.5.0",
            "value": " 1649664/? [00:00&lt;00:00, 10567312.16it/s]",
            "_view_count": null,
            "_view_module_version": "1.5.0",
            "description_tooltip": null,
            "_model_module": "@jupyter-widgets/controls",
            "layout": "IPY_MODEL_de8d4d73e33b40aaa010823935eb6faf"
          }
        },
        "4d05296654f34ef2814256b0021e4017": {
          "model_module": "@jupyter-widgets/controls",
          "model_name": "DescriptionStyleModel",
          "model_module_version": "1.5.0",
          "state": {
            "_view_name": "StyleView",
            "_model_name": "DescriptionStyleModel",
            "description_width": "",
            "_view_module": "@jupyter-widgets/base",
            "_model_module_version": "1.5.0",
            "_view_count": null,
            "_view_module_version": "1.2.0",
            "_model_module": "@jupyter-widgets/controls"
          }
        },
        "6012ba5a2ea148b2a7eef7fed68f23ad": {
          "model_module": "@jupyter-widgets/base",
          "model_name": "LayoutModel",
          "model_module_version": "1.2.0",
          "state": {
            "_view_name": "LayoutView",
            "grid_template_rows": null,
            "right": null,
            "justify_content": null,
            "_view_module": "@jupyter-widgets/base",
            "overflow": null,
            "_model_module_version": "1.2.0",
            "_view_count": null,
            "flex_flow": null,
            "width": null,
            "min_width": null,
            "border": null,
            "align_items": null,
            "bottom": null,
            "_model_module": "@jupyter-widgets/base",
            "top": null,
            "grid_column": null,
            "overflow_y": null,
            "overflow_x": null,
            "grid_auto_flow": null,
            "grid_area": null,
            "grid_template_columns": null,
            "flex": null,
            "_model_name": "LayoutModel",
            "justify_items": null,
            "grid_row": null,
            "max_height": null,
            "align_content": null,
            "visibility": null,
            "align_self": null,
            "height": null,
            "min_height": null,
            "padding": null,
            "grid_auto_rows": null,
            "grid_gap": null,
            "max_width": null,
            "order": null,
            "_view_module_version": "1.2.0",
            "grid_template_areas": null,
            "object_position": null,
            "object_fit": null,
            "grid_auto_columns": null,
            "margin": null,
            "display": null,
            "left": null
          }
        },
        "35097960ffad490e923b131c93a7cda8": {
          "model_module": "@jupyter-widgets/controls",
          "model_name": "ProgressStyleModel",
          "model_module_version": "1.5.0",
          "state": {
            "_view_name": "StyleView",
            "_model_name": "ProgressStyleModel",
            "description_width": "",
            "_view_module": "@jupyter-widgets/base",
            "_model_module_version": "1.5.0",
            "_view_count": null,
            "_view_module_version": "1.2.0",
            "bar_color": null,
            "_model_module": "@jupyter-widgets/controls"
          }
        },
        "2777f047a35940099cd16ca48b9f873d": {
          "model_module": "@jupyter-widgets/base",
          "model_name": "LayoutModel",
          "model_module_version": "1.2.0",
          "state": {
            "_view_name": "LayoutView",
            "grid_template_rows": null,
            "right": null,
            "justify_content": null,
            "_view_module": "@jupyter-widgets/base",
            "overflow": null,
            "_model_module_version": "1.2.0",
            "_view_count": null,
            "flex_flow": null,
            "width": null,
            "min_width": null,
            "border": null,
            "align_items": null,
            "bottom": null,
            "_model_module": "@jupyter-widgets/base",
            "top": null,
            "grid_column": null,
            "overflow_y": null,
            "overflow_x": null,
            "grid_auto_flow": null,
            "grid_area": null,
            "grid_template_columns": null,
            "flex": null,
            "_model_name": "LayoutModel",
            "justify_items": null,
            "grid_row": null,
            "max_height": null,
            "align_content": null,
            "visibility": null,
            "align_self": null,
            "height": null,
            "min_height": null,
            "padding": null,
            "grid_auto_rows": null,
            "grid_gap": null,
            "max_width": null,
            "order": null,
            "_view_module_version": "1.2.0",
            "grid_template_areas": null,
            "object_position": null,
            "object_fit": null,
            "grid_auto_columns": null,
            "margin": null,
            "display": null,
            "left": null
          }
        },
        "a97aeb15e6534305a78c059cf52a534a": {
          "model_module": "@jupyter-widgets/controls",
          "model_name": "DescriptionStyleModel",
          "model_module_version": "1.5.0",
          "state": {
            "_view_name": "StyleView",
            "_model_name": "DescriptionStyleModel",
            "description_width": "",
            "_view_module": "@jupyter-widgets/base",
            "_model_module_version": "1.5.0",
            "_view_count": null,
            "_view_module_version": "1.2.0",
            "_model_module": "@jupyter-widgets/controls"
          }
        },
        "de8d4d73e33b40aaa010823935eb6faf": {
          "model_module": "@jupyter-widgets/base",
          "model_name": "LayoutModel",
          "model_module_version": "1.2.0",
          "state": {
            "_view_name": "LayoutView",
            "grid_template_rows": null,
            "right": null,
            "justify_content": null,
            "_view_module": "@jupyter-widgets/base",
            "overflow": null,
            "_model_module_version": "1.2.0",
            "_view_count": null,
            "flex_flow": null,
            "width": null,
            "min_width": null,
            "border": null,
            "align_items": null,
            "bottom": null,
            "_model_module": "@jupyter-widgets/base",
            "top": null,
            "grid_column": null,
            "overflow_y": null,
            "overflow_x": null,
            "grid_auto_flow": null,
            "grid_area": null,
            "grid_template_columns": null,
            "flex": null,
            "_model_name": "LayoutModel",
            "justify_items": null,
            "grid_row": null,
            "max_height": null,
            "align_content": null,
            "visibility": null,
            "align_self": null,
            "height": null,
            "min_height": null,
            "padding": null,
            "grid_auto_rows": null,
            "grid_gap": null,
            "max_width": null,
            "order": null,
            "_view_module_version": "1.2.0",
            "grid_template_areas": null,
            "object_position": null,
            "object_fit": null,
            "grid_auto_columns": null,
            "margin": null,
            "display": null,
            "left": null
          }
        },
        "83eccca4de1044eca66efa89763b1ff7": {
          "model_module": "@jupyter-widgets/controls",
          "model_name": "HBoxModel",
          "model_module_version": "1.5.0",
          "state": {
            "_view_name": "HBoxView",
            "_dom_classes": [],
            "_model_name": "HBoxModel",
            "_view_module": "@jupyter-widgets/controls",
            "_model_module_version": "1.5.0",
            "_view_count": null,
            "_view_module_version": "1.5.0",
            "box_style": "",
            "layout": "IPY_MODEL_fe37f4a9d11748978446975ddcaf317c",
            "_model_module": "@jupyter-widgets/controls",
            "children": [
              "IPY_MODEL_43f30c2872274b25b89bdfb50ac0d1ac",
              "IPY_MODEL_b6ce5506f26e476dbebd4e8e07e80a9d",
              "IPY_MODEL_e1c9c571913549f5a611fd047c3d9cf3"
            ]
          }
        },
        "fe37f4a9d11748978446975ddcaf317c": {
          "model_module": "@jupyter-widgets/base",
          "model_name": "LayoutModel",
          "model_module_version": "1.2.0",
          "state": {
            "_view_name": "LayoutView",
            "grid_template_rows": null,
            "right": null,
            "justify_content": null,
            "_view_module": "@jupyter-widgets/base",
            "overflow": null,
            "_model_module_version": "1.2.0",
            "_view_count": null,
            "flex_flow": null,
            "width": null,
            "min_width": null,
            "border": null,
            "align_items": null,
            "bottom": null,
            "_model_module": "@jupyter-widgets/base",
            "top": null,
            "grid_column": null,
            "overflow_y": null,
            "overflow_x": null,
            "grid_auto_flow": null,
            "grid_area": null,
            "grid_template_columns": null,
            "flex": null,
            "_model_name": "LayoutModel",
            "justify_items": null,
            "grid_row": null,
            "max_height": null,
            "align_content": null,
            "visibility": null,
            "align_self": null,
            "height": null,
            "min_height": null,
            "padding": null,
            "grid_auto_rows": null,
            "grid_gap": null,
            "max_width": null,
            "order": null,
            "_view_module_version": "1.2.0",
            "grid_template_areas": null,
            "object_position": null,
            "object_fit": null,
            "grid_auto_columns": null,
            "margin": null,
            "display": null,
            "left": null
          }
        },
        "43f30c2872274b25b89bdfb50ac0d1ac": {
          "model_module": "@jupyter-widgets/controls",
          "model_name": "HTMLModel",
          "model_module_version": "1.5.0",
          "state": {
            "_view_name": "HTMLView",
            "style": "IPY_MODEL_758282dd1fec4c66aac1507460d0bc21",
            "_dom_classes": [],
            "description": "",
            "_model_name": "HTMLModel",
            "placeholder": "​",
            "_view_module": "@jupyter-widgets/controls",
            "_model_module_version": "1.5.0",
            "value": "",
            "_view_count": null,
            "_view_module_version": "1.5.0",
            "description_tooltip": null,
            "_model_module": "@jupyter-widgets/controls",
            "layout": "IPY_MODEL_154e2aa34ca94ccd9b173fa5f2d8be78"
          }
        },
        "b6ce5506f26e476dbebd4e8e07e80a9d": {
          "model_module": "@jupyter-widgets/controls",
          "model_name": "FloatProgressModel",
          "model_module_version": "1.5.0",
          "state": {
            "_view_name": "ProgressView",
            "style": "IPY_MODEL_06926e0faf554b05a7e115fec74aec41",
            "_dom_classes": [],
            "description": "",
            "_model_name": "FloatProgressModel",
            "bar_style": "success",
            "max": 4542,
            "_view_module": "@jupyter-widgets/controls",
            "_model_module_version": "1.5.0",
            "value": 4542,
            "_view_count": null,
            "_view_module_version": "1.5.0",
            "orientation": "horizontal",
            "min": 0,
            "description_tooltip": null,
            "_model_module": "@jupyter-widgets/controls",
            "layout": "IPY_MODEL_760c65d46a84439ab682dd95f354b9cc"
          }
        },
        "e1c9c571913549f5a611fd047c3d9cf3": {
          "model_module": "@jupyter-widgets/controls",
          "model_name": "HTMLModel",
          "model_module_version": "1.5.0",
          "state": {
            "_view_name": "HTMLView",
            "style": "IPY_MODEL_6ab8939fa8474cde991bb5183baafe3b",
            "_dom_classes": [],
            "description": "",
            "_model_name": "HTMLModel",
            "placeholder": "​",
            "_view_module": "@jupyter-widgets/controls",
            "_model_module_version": "1.5.0",
            "value": " 5120/? [00:00&lt;00:00, 129800.46it/s]",
            "_view_count": null,
            "_view_module_version": "1.5.0",
            "description_tooltip": null,
            "_model_module": "@jupyter-widgets/controls",
            "layout": "IPY_MODEL_6e6aa31145064187a7a82ac53aa5d070"
          }
        },
        "758282dd1fec4c66aac1507460d0bc21": {
          "model_module": "@jupyter-widgets/controls",
          "model_name": "DescriptionStyleModel",
          "model_module_version": "1.5.0",
          "state": {
            "_view_name": "StyleView",
            "_model_name": "DescriptionStyleModel",
            "description_width": "",
            "_view_module": "@jupyter-widgets/base",
            "_model_module_version": "1.5.0",
            "_view_count": null,
            "_view_module_version": "1.2.0",
            "_model_module": "@jupyter-widgets/controls"
          }
        },
        "154e2aa34ca94ccd9b173fa5f2d8be78": {
          "model_module": "@jupyter-widgets/base",
          "model_name": "LayoutModel",
          "model_module_version": "1.2.0",
          "state": {
            "_view_name": "LayoutView",
            "grid_template_rows": null,
            "right": null,
            "justify_content": null,
            "_view_module": "@jupyter-widgets/base",
            "overflow": null,
            "_model_module_version": "1.2.0",
            "_view_count": null,
            "flex_flow": null,
            "width": null,
            "min_width": null,
            "border": null,
            "align_items": null,
            "bottom": null,
            "_model_module": "@jupyter-widgets/base",
            "top": null,
            "grid_column": null,
            "overflow_y": null,
            "overflow_x": null,
            "grid_auto_flow": null,
            "grid_area": null,
            "grid_template_columns": null,
            "flex": null,
            "_model_name": "LayoutModel",
            "justify_items": null,
            "grid_row": null,
            "max_height": null,
            "align_content": null,
            "visibility": null,
            "align_self": null,
            "height": null,
            "min_height": null,
            "padding": null,
            "grid_auto_rows": null,
            "grid_gap": null,
            "max_width": null,
            "order": null,
            "_view_module_version": "1.2.0",
            "grid_template_areas": null,
            "object_position": null,
            "object_fit": null,
            "grid_auto_columns": null,
            "margin": null,
            "display": null,
            "left": null
          }
        },
        "06926e0faf554b05a7e115fec74aec41": {
          "model_module": "@jupyter-widgets/controls",
          "model_name": "ProgressStyleModel",
          "model_module_version": "1.5.0",
          "state": {
            "_view_name": "StyleView",
            "_model_name": "ProgressStyleModel",
            "description_width": "",
            "_view_module": "@jupyter-widgets/base",
            "_model_module_version": "1.5.0",
            "_view_count": null,
            "_view_module_version": "1.2.0",
            "bar_color": null,
            "_model_module": "@jupyter-widgets/controls"
          }
        },
        "760c65d46a84439ab682dd95f354b9cc": {
          "model_module": "@jupyter-widgets/base",
          "model_name": "LayoutModel",
          "model_module_version": "1.2.0",
          "state": {
            "_view_name": "LayoutView",
            "grid_template_rows": null,
            "right": null,
            "justify_content": null,
            "_view_module": "@jupyter-widgets/base",
            "overflow": null,
            "_model_module_version": "1.2.0",
            "_view_count": null,
            "flex_flow": null,
            "width": null,
            "min_width": null,
            "border": null,
            "align_items": null,
            "bottom": null,
            "_model_module": "@jupyter-widgets/base",
            "top": null,
            "grid_column": null,
            "overflow_y": null,
            "overflow_x": null,
            "grid_auto_flow": null,
            "grid_area": null,
            "grid_template_columns": null,
            "flex": null,
            "_model_name": "LayoutModel",
            "justify_items": null,
            "grid_row": null,
            "max_height": null,
            "align_content": null,
            "visibility": null,
            "align_self": null,
            "height": null,
            "min_height": null,
            "padding": null,
            "grid_auto_rows": null,
            "grid_gap": null,
            "max_width": null,
            "order": null,
            "_view_module_version": "1.2.0",
            "grid_template_areas": null,
            "object_position": null,
            "object_fit": null,
            "grid_auto_columns": null,
            "margin": null,
            "display": null,
            "left": null
          }
        },
        "6ab8939fa8474cde991bb5183baafe3b": {
          "model_module": "@jupyter-widgets/controls",
          "model_name": "DescriptionStyleModel",
          "model_module_version": "1.5.0",
          "state": {
            "_view_name": "StyleView",
            "_model_name": "DescriptionStyleModel",
            "description_width": "",
            "_view_module": "@jupyter-widgets/base",
            "_model_module_version": "1.5.0",
            "_view_count": null,
            "_view_module_version": "1.2.0",
            "_model_module": "@jupyter-widgets/controls"
          }
        },
        "6e6aa31145064187a7a82ac53aa5d070": {
          "model_module": "@jupyter-widgets/base",
          "model_name": "LayoutModel",
          "model_module_version": "1.2.0",
          "state": {
            "_view_name": "LayoutView",
            "grid_template_rows": null,
            "right": null,
            "justify_content": null,
            "_view_module": "@jupyter-widgets/base",
            "overflow": null,
            "_model_module_version": "1.2.0",
            "_view_count": null,
            "flex_flow": null,
            "width": null,
            "min_width": null,
            "border": null,
            "align_items": null,
            "bottom": null,
            "_model_module": "@jupyter-widgets/base",
            "top": null,
            "grid_column": null,
            "overflow_y": null,
            "overflow_x": null,
            "grid_auto_flow": null,
            "grid_area": null,
            "grid_template_columns": null,
            "flex": null,
            "_model_name": "LayoutModel",
            "justify_items": null,
            "grid_row": null,
            "max_height": null,
            "align_content": null,
            "visibility": null,
            "align_self": null,
            "height": null,
            "min_height": null,
            "padding": null,
            "grid_auto_rows": null,
            "grid_gap": null,
            "max_width": null,
            "order": null,
            "_view_module_version": "1.2.0",
            "grid_template_areas": null,
            "object_position": null,
            "object_fit": null,
            "grid_auto_columns": null,
            "margin": null,
            "display": null,
            "left": null
          }
        }
      }
    }
  },
  "cells": [
    {
      "cell_type": "code",
      "metadata": {
        "id": "bbe2402a",
        "colab": {
          "base_uri": "https://localhost:8080/"
        },
        "outputId": "9461be1f-0e5e-404f-de5a-bacbd87ceff6"
      },
      "source": [
        "%matplotlib inline\n",
        "\n",
        "import numpy as np\n",
        "import torch\n",
        "import matplotlib.pyplot as plt\n",
        "import torch.nn as nn\n",
        "import torch.nn.functional as func\n",
        "\n",
        "device = torch.device(\"cuda:0\" if torch.cuda.is_available() else \"cpu\")\n",
        "print(device)"
      ],
      "id": "bbe2402a",
      "execution_count": 1,
      "outputs": [
        {
          "output_type": "stream",
          "name": "stdout",
          "text": [
            "cuda:0\n"
          ]
        }
      ]
    },
    {
      "cell_type": "markdown",
      "metadata": {
        "id": "5lWv04PShXLR"
      },
      "source": [
        "# Dataset"
      ],
      "id": "5lWv04PShXLR"
    },
    {
      "cell_type": "code",
      "metadata": {
        "id": "5477e44d",
        "colab": {
          "base_uri": "https://localhost:8080/",
          "height": 422,
          "referenced_widgets": [
            "b6bd2b47eda04f4f99f282e652499635",
            "17751b4346ac4d528391130f2fab86e2",
            "f64a46c6a99a4cc7ae70057e3aac2f3c",
            "070b8dd548a3420f918ac5b01d25a8ab",
            "e75d04ff94054d6397e67c9300a733b0",
            "e87ebd145f0b4122890025b0427dd353",
            "ada00e15c1d04a809577f45d4af5f3bd",
            "4b991431a2594228af83069d86e67611",
            "814451f46165404c9cde88eb94943b2c",
            "d95142858e8740eab36dcdf4ec607854",
            "b7f1b617ae6b44828b5c35eb8d9db6b8",
            "b6d9f24f983441aab4855e10253650ab",
            "070c8f5afa7348698b1f0861130cc791",
            "755390f7d2c9478fb0f2b555d43fd02f",
            "e73d57aa6bb546f29255ff5325dd6410",
            "dc537d9357fa4ad4a7b85ea0f435dbb4",
            "420e250311364f1cba05aee6f06a9b45",
            "a5cbc6256f1c4d098c288b922aca5ad4",
            "62b8f47406ed4d8ba048c8568f66b56b",
            "660ef241fd0a464e88224429d7119bf7",
            "35dbc6cd483340ed930b5464e82b566b",
            "bd11d487704041678d2a6cc2fe75aaa2",
            "75e7571c153f4e3d9975b1b21738c50d",
            "ce310e09f1f4448ba987a9d16113e7c7",
            "3cbeb775cfbc4ea4b63884eae95b1776",
            "80691e852547401db0e673342948af71",
            "6678bd38e55d44bb84e179a426e16cf7",
            "4d05296654f34ef2814256b0021e4017",
            "6012ba5a2ea148b2a7eef7fed68f23ad",
            "35097960ffad490e923b131c93a7cda8",
            "2777f047a35940099cd16ca48b9f873d",
            "a97aeb15e6534305a78c059cf52a534a",
            "de8d4d73e33b40aaa010823935eb6faf",
            "83eccca4de1044eca66efa89763b1ff7",
            "fe37f4a9d11748978446975ddcaf317c",
            "43f30c2872274b25b89bdfb50ac0d1ac",
            "b6ce5506f26e476dbebd4e8e07e80a9d",
            "e1c9c571913549f5a611fd047c3d9cf3",
            "758282dd1fec4c66aac1507460d0bc21",
            "154e2aa34ca94ccd9b173fa5f2d8be78",
            "06926e0faf554b05a7e115fec74aec41",
            "760c65d46a84439ab682dd95f354b9cc",
            "6ab8939fa8474cde991bb5183baafe3b",
            "6e6aa31145064187a7a82ac53aa5d070"
          ]
        },
        "outputId": "a0ceaee6-3f7d-4987-fc50-8402d812e8f4"
      },
      "source": [
        "from torchvision.datasets import MNIST\n",
        "from torchvision.datasets import FashionMNIST\n",
        "import torchvision.transforms as transforms\n",
        "\n",
        "num_workers = 0\n",
        "batch_size = 64\n",
        "img_resize = 64   # resize to 64x64 imgs\n",
        "\n",
        "transform = transforms.Compose([transforms.Resize(img_resize), transforms.ToTensor()])\n",
        "\n",
        "mnist_train_data = MNIST(root='data', train=True, download=True, transform=transform)\n",
        "mnist_train_loader = torch.utils.data.DataLoader(mnist_train_data, num_workers=num_workers, batch_size=batch_size)"
      ],
      "id": "5477e44d",
      "execution_count": 2,
      "outputs": [
        {
          "output_type": "stream",
          "name": "stdout",
          "text": [
            "Downloading http://yann.lecun.com/exdb/mnist/train-images-idx3-ubyte.gz\n",
            "Downloading http://yann.lecun.com/exdb/mnist/train-images-idx3-ubyte.gz to data/MNIST/raw/train-images-idx3-ubyte.gz\n"
          ]
        },
        {
          "output_type": "display_data",
          "data": {
            "application/vnd.jupyter.widget-view+json": {
              "model_id": "b6bd2b47eda04f4f99f282e652499635",
              "version_minor": 0,
              "version_major": 2
            },
            "text/plain": [
              "  0%|          | 0/9912422 [00:00<?, ?it/s]"
            ]
          },
          "metadata": {}
        },
        {
          "output_type": "stream",
          "name": "stdout",
          "text": [
            "Extracting data/MNIST/raw/train-images-idx3-ubyte.gz to data/MNIST/raw\n",
            "\n",
            "Downloading http://yann.lecun.com/exdb/mnist/train-labels-idx1-ubyte.gz\n",
            "Downloading http://yann.lecun.com/exdb/mnist/train-labels-idx1-ubyte.gz to data/MNIST/raw/train-labels-idx1-ubyte.gz\n"
          ]
        },
        {
          "output_type": "display_data",
          "data": {
            "application/vnd.jupyter.widget-view+json": {
              "model_id": "b6d9f24f983441aab4855e10253650ab",
              "version_minor": 0,
              "version_major": 2
            },
            "text/plain": [
              "  0%|          | 0/28881 [00:00<?, ?it/s]"
            ]
          },
          "metadata": {}
        },
        {
          "output_type": "stream",
          "name": "stdout",
          "text": [
            "Extracting data/MNIST/raw/train-labels-idx1-ubyte.gz to data/MNIST/raw\n",
            "\n",
            "Downloading http://yann.lecun.com/exdb/mnist/t10k-images-idx3-ubyte.gz\n",
            "Downloading http://yann.lecun.com/exdb/mnist/t10k-images-idx3-ubyte.gz to data/MNIST/raw/t10k-images-idx3-ubyte.gz\n"
          ]
        },
        {
          "output_type": "display_data",
          "data": {
            "application/vnd.jupyter.widget-view+json": {
              "model_id": "75e7571c153f4e3d9975b1b21738c50d",
              "version_minor": 0,
              "version_major": 2
            },
            "text/plain": [
              "  0%|          | 0/1648877 [00:00<?, ?it/s]"
            ]
          },
          "metadata": {}
        },
        {
          "output_type": "stream",
          "name": "stdout",
          "text": [
            "Extracting data/MNIST/raw/t10k-images-idx3-ubyte.gz to data/MNIST/raw\n",
            "\n",
            "Downloading http://yann.lecun.com/exdb/mnist/t10k-labels-idx1-ubyte.gz\n",
            "Downloading http://yann.lecun.com/exdb/mnist/t10k-labels-idx1-ubyte.gz to data/MNIST/raw/t10k-labels-idx1-ubyte.gz\n"
          ]
        },
        {
          "output_type": "display_data",
          "data": {
            "application/vnd.jupyter.widget-view+json": {
              "model_id": "83eccca4de1044eca66efa89763b1ff7",
              "version_minor": 0,
              "version_major": 2
            },
            "text/plain": [
              "  0%|          | 0/4542 [00:00<?, ?it/s]"
            ]
          },
          "metadata": {}
        },
        {
          "output_type": "stream",
          "name": "stdout",
          "text": [
            "Extracting data/MNIST/raw/t10k-labels-idx1-ubyte.gz to data/MNIST/raw\n",
            "\n"
          ]
        }
      ]
    },
    {
      "cell_type": "markdown",
      "metadata": {
        "id": "QWYoqfbAhchY"
      },
      "source": [
        "# GAN Model"
      ],
      "id": "QWYoqfbAhchY"
    },
    {
      "cell_type": "code",
      "metadata": {
        "id": "3c62ec11"
      },
      "source": [
        "\n",
        "\n",
        "class Discriminator(nn.Module):\n",
        "    def __init__(self, in_channels, n_features, out_channels):\n",
        "        super(Discriminator, self).__init__()\n",
        "\n",
        "        self.conv1 = nn.Conv2d(in_channels=in_channels, out_channels=n_features, kernel_size=4, stride=2, padding=1)    #32x32\n",
        "        self.batchnorm1 = nn.BatchNorm2d(num_features=n_features)\n",
        "        self.conv2 = nn.Conv2d(in_channels=n_features, out_channels=n_features*2, kernel_size=4, stride=2, padding=1) #16x16\n",
        "        self.batchnorm2 = nn.BatchNorm2d(num_features=n_features*2)\n",
        "        self.conv3 = nn.Conv2d(in_channels=n_features*2, out_channels=n_features*4, kernel_size=4, stride=2, padding=1) #8x8\n",
        "        self.batchnorm3 = nn.BatchNorm2d(num_features=n_features*4)\n",
        "        self.conv4 = nn.Conv2d(in_channels=n_features*4, out_channels=n_features*8, kernel_size=4, stride=2, padding=1) #4x4\n",
        "        self.batchnorm4 = nn.BatchNorm2d(num_features=n_features*8)\n",
        "\n",
        "        self.conv5 = nn.Conv2d(in_channels=n_features*8, out_channels=out_channels, kernel_size=4, stride=1, padding=0) #1x1\n",
        "        \n",
        "    def forward(self, x):\n",
        "\n",
        "        # conv2d -> batchnorm2d -> leakyrelu -> conv2d...\n",
        "        x = self.conv1(x)\n",
        "        x = self.batchnorm1(x)\n",
        "        x = func.leaky_relu(x, 0.2)\n",
        "        x = self.conv2(x)\n",
        "        x = self.batchnorm2(x)\n",
        "        x = func.leaky_relu(x, 0.2)\n",
        "        x = self.conv3(x)\n",
        "        x = self.batchnorm3(x)\n",
        "        x = func.leaky_relu(x, 0.2)\n",
        "        x = self.conv4(x)\n",
        "        x = self.batchnorm4(x)\n",
        "        x = func.leaky_relu(x, 0.2)\n",
        "\n",
        "        out = self.conv5(x)\n",
        "        \n",
        "        return out"
      ],
      "id": "3c62ec11",
      "execution_count": 3,
      "outputs": []
    },
    {
      "cell_type": "code",
      "metadata": {
        "id": "5ec2c0f0"
      },
      "source": [
        "class Generator(nn.Module):\n",
        "    def __init__(self, in_channels, n_features, out_channels):\n",
        "        super(Generator, self).__init__()\n",
        "        # project and reshape z\n",
        "        self.convT1 = nn.ConvTranspose2d(in_channels=in_channels, out_channels=n_features*16, kernel_size=4, stride=1, padding=0) # 4x4\n",
        "        self.batchnorm1 = nn.BatchNorm2d(num_features=n_features*16)\n",
        "        \n",
        "        self.convT2 = nn.ConvTranspose2d(in_channels=n_features*16, out_channels=n_features*8, kernel_size=4, stride=2, padding=1) # 8x8\n",
        "        self.batchnorm2 = nn.BatchNorm2d(num_features=n_features*8)\n",
        "        self.convT3 = nn.ConvTranspose2d(in_channels=n_features*8, out_channels=n_features*4, kernel_size=4, stride=2, padding=1)  # 16x16\n",
        "        self.batchnorm3 = nn.BatchNorm2d(num_features=n_features*4)\n",
        "        self.convT4 = nn.ConvTranspose2d(in_channels=n_features*4, out_channels=n_features*2, kernel_size=4, stride=2, padding=1)  # 32x32\n",
        "        self.batchnorm4 = nn.BatchNorm2d(num_features=n_features*2)\n",
        "\n",
        "        self.convT5 = nn.ConvTranspose2d(in_channels=n_features*2, out_channels=out_channels, kernel_size=4, stride=2, padding=1) # 64x64\n",
        "        \n",
        "\n",
        "\n",
        "    def forward(self, x):\n",
        "        # conv2d -> batchnorm2d -> relu -> conv2d...\n",
        "        x = self.convT1(x)\n",
        "        x = self.batchnorm1(x)\n",
        "        x = func.relu(x)\n",
        "        x = self.convT2(x)\n",
        "        x = self.batchnorm2(x)\n",
        "        x = func.relu(x)\n",
        "        x = self.convT3(x)\n",
        "        x = self.batchnorm3(x)\n",
        "        x = func.relu(x)\n",
        "        x = self.convT4(x)\n",
        "        x = self.batchnorm4(x)\n",
        "        x = func.relu(x)\n",
        "     \n",
        "        # output\n",
        "        out = func.tanh(self.convT5(x))\n",
        "        \n",
        "        return out"
      ],
      "id": "5ec2c0f0",
      "execution_count": 4,
      "outputs": []
    },
    {
      "cell_type": "markdown",
      "metadata": {
        "id": "2Qzas1WbhgzA"
      },
      "source": [
        "# Training"
      ],
      "id": "2Qzas1WbhgzA"
    },
    {
      "cell_type": "code",
      "metadata": {
        "id": "8a5f5a11"
      },
      "source": [
        "# Discriminator hyperparams\n",
        "d_in_channels = 1        # gray-scale     \n",
        "d_out_channels = 1      # real or fake\n",
        "d_n_features = 64\n",
        "\n",
        "# Generator hyperparams\n",
        "z_size = 100             # Size of latent vector\n",
        "g_out_channels = 1       # gray_scale\n",
        "g_n_features = 64"
      ],
      "id": "8a5f5a11",
      "execution_count": 5,
      "outputs": []
    },
    {
      "cell_type": "code",
      "metadata": {
        "colab": {
          "base_uri": "https://localhost:8080/"
        },
        "id": "4f788c10",
        "outputId": "20c4315e-2ddc-4779-f51b-b765cd6f03cd"
      },
      "source": [
        "D = Discriminator(in_channels=d_in_channels, n_features=d_n_features, out_channels=d_out_channels).to(device)\n",
        "G = Generator(in_channels=z_size, n_features=g_n_features, out_channels=g_out_channels).to(device)\n",
        "\n",
        "print(D)\n",
        "print(G)"
      ],
      "id": "4f788c10",
      "execution_count": 6,
      "outputs": [
        {
          "output_type": "stream",
          "name": "stdout",
          "text": [
            "Discriminator(\n",
            "  (conv1): Conv2d(1, 64, kernel_size=(4, 4), stride=(2, 2), padding=(1, 1))\n",
            "  (batchnorm1): BatchNorm2d(64, eps=1e-05, momentum=0.1, affine=True, track_running_stats=True)\n",
            "  (conv2): Conv2d(64, 128, kernel_size=(4, 4), stride=(2, 2), padding=(1, 1))\n",
            "  (batchnorm2): BatchNorm2d(128, eps=1e-05, momentum=0.1, affine=True, track_running_stats=True)\n",
            "  (conv3): Conv2d(128, 256, kernel_size=(4, 4), stride=(2, 2), padding=(1, 1))\n",
            "  (batchnorm3): BatchNorm2d(256, eps=1e-05, momentum=0.1, affine=True, track_running_stats=True)\n",
            "  (conv4): Conv2d(256, 512, kernel_size=(4, 4), stride=(2, 2), padding=(1, 1))\n",
            "  (batchnorm4): BatchNorm2d(512, eps=1e-05, momentum=0.1, affine=True, track_running_stats=True)\n",
            "  (conv5): Conv2d(512, 1, kernel_size=(4, 4), stride=(1, 1))\n",
            ")\n",
            "Generator(\n",
            "  (convT1): ConvTranspose2d(100, 1024, kernel_size=(4, 4), stride=(1, 1))\n",
            "  (batchnorm1): BatchNorm2d(1024, eps=1e-05, momentum=0.1, affine=True, track_running_stats=True)\n",
            "  (convT2): ConvTranspose2d(1024, 512, kernel_size=(4, 4), stride=(2, 2), padding=(1, 1))\n",
            "  (batchnorm2): BatchNorm2d(512, eps=1e-05, momentum=0.1, affine=True, track_running_stats=True)\n",
            "  (convT3): ConvTranspose2d(512, 256, kernel_size=(4, 4), stride=(2, 2), padding=(1, 1))\n",
            "  (batchnorm3): BatchNorm2d(256, eps=1e-05, momentum=0.1, affine=True, track_running_stats=True)\n",
            "  (convT4): ConvTranspose2d(256, 128, kernel_size=(4, 4), stride=(2, 2), padding=(1, 1))\n",
            "  (batchnorm4): BatchNorm2d(128, eps=1e-05, momentum=0.1, affine=True, track_running_stats=True)\n",
            "  (convT5): ConvTranspose2d(128, 1, kernel_size=(4, 4), stride=(2, 2), padding=(1, 1))\n",
            ")\n"
          ]
        }
      ]
    },
    {
      "cell_type": "code",
      "metadata": {
        "id": "d1f4d011"
      },
      "source": [
        "import torch.optim as optim\n",
        "\n",
        "lr = 0.0002\n",
        "\n",
        "# Create optimizers for the discriminator and generator\n",
        "d_optimizer = optim.Adam(D.parameters(), lr)\n",
        "g_optimizer = optim.Adam(G.parameters(), lr)\n",
        "\n",
        "criterion = nn.BCEWithLogitsLoss()"
      ],
      "id": "d1f4d011",
      "execution_count": 7,
      "outputs": []
    },
    {
      "cell_type": "code",
      "metadata": {
        "colab": {
          "base_uri": "https://localhost:8080/"
        },
        "id": "6daeb4b3",
        "outputId": "bab33c70-0598-42c8-cdf8-9f249f2bca70"
      },
      "source": [
        "import pickle as pkl\n",
        "\n",
        "num_epochs = 15\n",
        "samples = []\n",
        "losses = []\n",
        "\n",
        "print_every = 400\n",
        "\n",
        "sample_size = 32\n",
        "fixed_z = torch.randn((sample_size, z_size, 1, 1)).to(device)\n",
        "\n",
        "D.train()\n",
        "G.train()\n",
        "for epoch in range(num_epochs):\n",
        "    for batch, (real_images, _) in enumerate(mnist_train_loader):\n",
        "        real_images = real_images.to(device)  # batch_size x 64 x 64\n",
        "        batch_size = real_images.size(0)\n",
        "        \n",
        "        # rescale input images from [0,1) to [-1, 1)\n",
        "        real_images = real_images*2 - 1  \n",
        "        \n",
        "        # TRAIN THE DISCRIMINATOR\n",
        "        d_optimizer.zero_grad()\n",
        "        \n",
        "        # 1. Train with real images\n",
        "        real_labels = torch.ones(batch_size).to(device)\n",
        "        # One-sided label smoothing\n",
        "        real_labels = real_labels * 0.9     # real labels = 0.9\n",
        "        D_out_real = D(real_images)\n",
        "        d_real_loss = criterion(D_out_real.squeeze(), real_labels)\n",
        "        \n",
        "        # 2. Train with fake images\n",
        "        # Generate fake images\n",
        "        with torch.no_grad():\n",
        "            z = torch.randn((batch_size, z_size, 1, 1)).to(device)\n",
        "            fake_images = G(z)\n",
        "        fake_labels = torch.zeros(batch_size).to(device) # fake labels = 0\n",
        "        # loss on fake images\n",
        "        D_out_fake = D(fake_images)\n",
        "        d_fake_loss = criterion(D_out_fake.squeeze(), fake_labels)\n",
        "        \n",
        "        # 3. Add up loss\n",
        "        d_loss = d_real_loss + d_fake_loss\n",
        "\n",
        "        # backprop\n",
        "        d_loss.backward()\n",
        "        d_optimizer.step()\n",
        "        \n",
        "        # TRAIN THE GENERATOR\n",
        "        g_optimizer.zero_grad()\n",
        "        \n",
        "        # Generate fake images\n",
        "        z = torch.randn((batch_size, z_size, 1, 1)).to(device)\n",
        "        fake_images = G(z)\n",
        "        \n",
        "        D_out_fake = D(fake_images)\n",
        "        g_loss = criterion(D_out_fake.squeeze(), real_labels)   # flip labels\n",
        "        \n",
        "        # backprop\n",
        "        g_loss.backward()\n",
        "        g_optimizer.step()\n",
        "\n",
        "\n",
        "        if batch % print_every == 0:\n",
        "            print('Epoch [{:5d}/{:5d}] | d_loss: {:.4f} | g_loss: {:.4f}'.format(\n",
        "                epoch+1, num_epochs, d_loss.item(), g_loss.item()))\n",
        "\n",
        "    losses.append((d_loss.item(), g_loss.item()))\n",
        "\n",
        "    # generate and save samples\n",
        "    G.eval()\n",
        "    samples_z = G(fixed_z)\n",
        "    samples.append(samples_z)\n",
        "    G.train()\n",
        "\n",
        "# Save training generator samples\n",
        "with open('DCGAN_train_samples.pkl', 'wb') as f:\n",
        "    pkl.dump(samples, f)"
      ],
      "id": "6daeb4b3",
      "execution_count": 8,
      "outputs": [
        {
          "output_type": "stream",
          "name": "stderr",
          "text": [
            "/usr/local/lib/python3.7/dist-packages/torch/nn/functional.py:1795: UserWarning: nn.functional.tanh is deprecated. Use torch.tanh instead.\n",
            "  warnings.warn(\"nn.functional.tanh is deprecated. Use torch.tanh instead.\")\n"
          ]
        },
        {
          "output_type": "stream",
          "name": "stdout",
          "text": [
            "Epoch [    1/   15] | d_loss: 1.4367 | g_loss: 2.0818\n",
            "Epoch [    1/   15] | d_loss: 0.3322 | g_loss: 7.0554\n",
            "Epoch [    1/   15] | d_loss: 0.3255 | g_loss: 8.3262\n",
            "Epoch [    2/   15] | d_loss: 0.3276 | g_loss: 8.7962\n",
            "Epoch [    2/   15] | d_loss: 0.3256 | g_loss: 9.5420\n",
            "Epoch [    2/   15] | d_loss: 0.3252 | g_loss: 9.5413\n",
            "Epoch [    3/   15] | d_loss: 0.3264 | g_loss: 9.9401\n",
            "Epoch [    3/   15] | d_loss: 0.4331 | g_loss: 4.5530\n",
            "Epoch [    3/   15] | d_loss: 0.3258 | g_loss: 7.7643\n",
            "Epoch [    4/   15] | d_loss: 0.4554 | g_loss: 4.9146\n",
            "Epoch [    4/   15] | d_loss: 0.3491 | g_loss: 5.8720\n",
            "Epoch [    4/   15] | d_loss: 0.4184 | g_loss: 4.3271\n",
            "Epoch [    5/   15] | d_loss: 0.5900 | g_loss: 3.5344\n",
            "Epoch [    5/   15] | d_loss: 0.7924 | g_loss: 4.2773\n",
            "Epoch [    5/   15] | d_loss: 0.7442 | g_loss: 2.2913\n",
            "Epoch [    6/   15] | d_loss: 0.6892 | g_loss: 3.6048\n",
            "Epoch [    6/   15] | d_loss: 0.6270 | g_loss: 4.0988\n",
            "Epoch [    6/   15] | d_loss: 0.4656 | g_loss: 1.7485\n",
            "Epoch [    7/   15] | d_loss: 0.9530 | g_loss: 2.2557\n",
            "Epoch [    7/   15] | d_loss: 0.6558 | g_loss: 3.7557\n",
            "Epoch [    7/   15] | d_loss: 0.4969 | g_loss: 4.3205\n",
            "Epoch [    8/   15] | d_loss: 0.4938 | g_loss: 3.8462\n",
            "Epoch [    8/   15] | d_loss: 0.4876 | g_loss: 5.6848\n",
            "Epoch [    8/   15] | d_loss: 0.4647 | g_loss: 2.9753\n",
            "Epoch [    9/   15] | d_loss: 0.4980 | g_loss: 3.9534\n",
            "Epoch [    9/   15] | d_loss: 0.5244 | g_loss: 2.3847\n",
            "Epoch [    9/   15] | d_loss: 0.7175 | g_loss: 3.7058\n",
            "Epoch [   10/   15] | d_loss: 0.3732 | g_loss: 3.5588\n",
            "Epoch [   10/   15] | d_loss: 0.6294 | g_loss: 0.9520\n",
            "Epoch [   10/   15] | d_loss: 0.6186 | g_loss: 4.0571\n",
            "Epoch [   11/   15] | d_loss: 0.4127 | g_loss: 3.2621\n",
            "Epoch [   11/   15] | d_loss: 0.3665 | g_loss: 3.8614\n",
            "Epoch [   11/   15] | d_loss: 0.8276 | g_loss: 4.4922\n",
            "Epoch [   12/   15] | d_loss: 0.4065 | g_loss: 2.0975\n",
            "Epoch [   12/   15] | d_loss: 0.4296 | g_loss: 4.0877\n",
            "Epoch [   12/   15] | d_loss: 0.5148 | g_loss: 4.4407\n",
            "Epoch [   13/   15] | d_loss: 0.4649 | g_loss: 5.6135\n",
            "Epoch [   13/   15] | d_loss: 0.3556 | g_loss: 3.9990\n",
            "Epoch [   13/   15] | d_loss: 0.4159 | g_loss: 2.5638\n",
            "Epoch [   14/   15] | d_loss: 0.4186 | g_loss: 4.7278\n",
            "Epoch [   14/   15] | d_loss: 0.3983 | g_loss: 4.5616\n",
            "Epoch [   14/   15] | d_loss: 0.6194 | g_loss: 4.4056\n",
            "Epoch [   15/   15] | d_loss: 0.4907 | g_loss: 6.3319\n",
            "Epoch [   15/   15] | d_loss: 0.3451 | g_loss: 4.5999\n",
            "Epoch [   15/   15] | d_loss: 0.5806 | g_loss: 5.2957\n"
          ]
        }
      ]
    },
    {
      "cell_type": "code",
      "metadata": {
        "id": "cd2e5b2f",
        "colab": {
          "base_uri": "https://localhost:8080/",
          "height": 298
        },
        "outputId": "2b3c207b-c4e6-4bf4-9038-70cb52b46b55"
      },
      "source": [
        "fig, ax = plt.subplots()\n",
        "losses = np.array(losses)\n",
        "plt.plot(losses.T[0], label='Discriminator')\n",
        "plt.plot(losses.T[1], label='Generator')\n",
        "plt.title(\"Training Losses\")\n",
        "plt.legend()"
      ],
      "id": "cd2e5b2f",
      "execution_count": 9,
      "outputs": [
        {
          "output_type": "execute_result",
          "data": {
            "text/plain": [
              "<matplotlib.legend.Legend at 0x7f82d9b46a90>"
            ]
          },
          "metadata": {},
          "execution_count": 9
        },
        {
          "output_type": "display_data",
          "data": {
            "image/png": "[encoded data removed]",
            "text/plain": [
              "<Figure size 432x288 with 1 Axes>"
            ]
          },
          "metadata": {
            "needs_background": "light"
          }
        }
      ]
    },
    {
      "cell_type": "markdown",
      "metadata": {
        "id": "P8Qaemckhqvg"
      },
      "source": [
        "# Sample"
      ],
      "id": "P8Qaemckhqvg"
    },
    {
      "cell_type": "markdown",
      "metadata": {
        "id": "4W9TRn79hzvY"
      },
      "source": [
        "## Training sample"
      ],
      "id": "4W9TRn79hzvY"
    },
    {
      "cell_type": "code",
      "metadata": {
        "id": "d92cea26"
      },
      "source": [
        "def view_samples(epoch, samples):\n",
        "    fig, axes = plt.subplots(figsize=(7,7), nrows=5, ncols=5, sharey=True, sharex=True)\n",
        "    for ax, img in zip(axes.flatten(), samples[epoch]):\n",
        "        img = img.detach().cpu()\n",
        "        ax.xaxis.set_visible(False)\n",
        "        ax.yaxis.set_visible(False)\n",
        "        im = ax.imshow(img.reshape((64,64)), cmap='Greys_r')"
      ],
      "id": "d92cea26",
      "execution_count": 145,
      "outputs": []
    },
    {
      "cell_type": "code",
      "metadata": {
        "id": "d2004a55"
      },
      "source": [
        "# Load samples from generator, taken while training\n",
        "with open('DCGAN_train_samples.pkl', 'rb') as f:\n",
        "    samples = pkl.load(f)"
      ],
      "id": "d2004a55",
      "execution_count": 146,
      "outputs": []
    },
    {
      "cell_type": "code",
      "metadata": {
        "id": "c0b836e6",
        "colab": {
          "base_uri": "https://localhost:8080/",
          "height": 687
        },
        "outputId": "270d0b73-57e7-4c59-e3a9-c9aced7b92fc"
      },
      "source": [
        "rows = 10 # show every 10 epochs\n",
        "cols = 6\n",
        "fig, axes = plt.subplots(figsize=(7,12), nrows=rows, ncols=cols, sharex=True, sharey=True)\n",
        "\n",
        "for sample, ax_row in zip(samples[::int(len(samples)/rows)], axes):\n",
        "    for img, ax in zip(sample[::int(len(sample)/cols)], ax_row):\n",
        "        img = img.detach().cpu()\n",
        "        ax.imshow(img.reshape((64,64)), cmap='Greys_r')\n",
        "        ax.xaxis.set_visible(False)\n",
        "        ax.yaxis.set_visible(False)"
      ],
      "id": "c0b836e6",
      "execution_count": 147,
      "outputs": [
        {
          "output_type": "display_data",
          "data": {
            "image/png": "[encoded data removed]",
            "text/plain": [
              "<Figure size 504x864 with 60 Axes>"
            ]
          },
          "metadata": {
            "needs_background": "light"
          }
        }
      ]
    },
    {
      "cell_type": "markdown",
      "metadata": {
        "id": "cwHw8VVXh6jv"
      },
      "source": [
        "## Result sample"
      ],
      "id": "cwHw8VVXh6jv"
    },
    {
      "cell_type": "code",
      "metadata": {
        "id": "17747d48",
        "colab": {
          "base_uri": "https://localhost:8080/",
          "height": 450
        },
        "outputId": "2e5f7e56-64c8-4937-cb0f-66634ef1dfca"
      },
      "source": [
        "sample_size=25\n",
        "z = torch.randn((sample_size, z_size, 1, 1)).to(device)\n",
        "\n",
        "G.eval()\n",
        "rand_images = G(z)\n",
        "view_samples(0, [rand_images])"
      ],
      "id": "17747d48",
      "execution_count": 166,
      "outputs": [
        {
          "output_type": "stream",
          "name": "stderr",
          "text": [
            "/usr/local/lib/python3.7/dist-packages/torch/nn/functional.py:1795: UserWarning: nn.functional.tanh is deprecated. Use torch.tanh instead.\n",
            "  warnings.warn(\"nn.functional.tanh is deprecated. Use torch.tanh instead.\")\n"
          ]
        },
        {
          "output_type": "display_data",
          "data": {
            "image/png": "[encoded data removed]",
            "text/plain": [
              "<Figure size 504x504 with 25 Axes>"
            ]
          },
          "metadata": {
            "needs_background": "light"
          }
        }
      ]
    }
  ]
}